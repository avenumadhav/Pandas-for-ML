{
  "nbformat": 4,
  "nbformat_minor": 0,
  "metadata": {
    "colab": {
      "name": "6.0 Boolean Series & Indexing.ipynb",
      "provenance": [],
      "collapsed_sections": []
    },
    "kernelspec": {
      "name": "python3",
      "display_name": "Python 3"
    },
    "language_info": {
      "name": "python"
    }
  },
  "cells": [
    {
      "cell_type": "markdown",
      "source": [
        "# 6.0 Boolean Series & Indexing"
      ],
      "metadata": {
        "id": "3tCKQjes3DxM"
      }
    },
    {
      "cell_type": "markdown",
      "source": [
        "Exercise1:\n",
        "1. create a variable 'url' using a) the link 'https://raw.githubusercontent.com/avenumadhav/Pandas-for-ML/main/Datasets/' and b) add a string with file name 'wt_ht.csv'\n",
        "2. Use read_csv to read 'url' variable and assign it to 'hw'\n",
        "3. Find out total number of rows of the dataframe hw using .shape property\n",
        "3. Create a dataframe using condition that includes '==' which has all the data pertaining to 'Male'\n",
        "5. Find out total number of rows of this new dataframe\n",
        "\n",
        "---\n",
        "\n"
      ],
      "metadata": {
        "id": "NiuHYZHS3HOL"
      }
    },
    {
      "cell_type": "code",
      "source": [
        ""
      ],
      "metadata": {
        "id": "vXY0SP-nSk8-"
      },
      "execution_count": null,
      "outputs": []
    },
    {
      "cell_type": "markdown",
      "source": [
        "Exercise2: Using 'hw' obtained above, create a Boolean series with condition weight < 100 and findout how many unique values does this Boolean series have\n",
        "\n",
        "---\n",
        "\n"
      ],
      "metadata": {
        "id": "NWrsBeT23Mxc"
      }
    },
    {
      "cell_type": "code",
      "source": [
        ""
      ],
      "metadata": {
        "id": "Xoq6WvdJSluS"
      },
      "execution_count": null,
      "outputs": []
    },
    {
      "cell_type": "markdown",
      "source": [
        "Exercise3: Use 'hw' obtained above, create a dataframe with height less than 75 and weight greater thn 225\n",
        "\n",
        "\n",
        "---\n",
        "\n"
      ],
      "metadata": {
        "id": "3q3DfpOw3NLY"
      }
    },
    {
      "cell_type": "code",
      "source": [
        ""
      ],
      "metadata": {
        "id": "Ap06akOBSmit"
      },
      "execution_count": null,
      "outputs": []
    },
    {
      "cell_type": "markdown",
      "source": [
        "Exercise4: Using ~ operator create a dataframe of the data pertaining to 'Female'\n",
        "\n",
        "---\n",
        "\n"
      ],
      "metadata": {
        "id": "IsX7u78H3NiL"
      }
    },
    {
      "cell_type": "code",
      "source": [
        ""
      ],
      "metadata": {
        "id": "VbT_Im3cSnGC"
      },
      "execution_count": null,
      "outputs": []
    },
    {
      "cell_type": "markdown",
      "source": [
        "Exercise5: Using 'hw' obtained in 'Exercise 1' obtain a dataframe of all the females whose height is greater 50 and weight less than 100. Also, findout how many such individuals are present\n",
        "\n",
        "---\n",
        "\n"
      ],
      "metadata": {
        "id": "8uo0fx6l3N7g"
      }
    },
    {
      "cell_type": "code",
      "source": [
        ""
      ],
      "metadata": {
        "id": "JtVS2cD1Sns0"
      },
      "execution_count": null,
      "outputs": []
    },
    {
      "cell_type": "markdown",
      "source": [
        "Exercise6: Use .between(  ) method on height for values in range 75 and 100 and obtain a new dataframe based on it.\n",
        "\n",
        "---\n",
        "\n"
      ],
      "metadata": {
        "id": "xRGQo7093OQk"
      }
    },
    {
      "cell_type": "code",
      "source": [
        ""
      ],
      "metadata": {
        "id": "cgyDh3ClSoMP"
      },
      "execution_count": null,
      "outputs": []
    },
    {
      "cell_type": "markdown",
      "source": [
        "Exercise7: Use .loc and apply it on 'hw' dataframe with condition that height values are in range 75 to 100 and showing only 'Gender' column\n",
        "- Expected Output:\n",
        "\n",
        "![df3.png](data:image/png;base64,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)\n",
        "\n",
        "---\n",
        "\n"
      ],
      "metadata": {
        "id": "U0qHxksX3Opu"
      }
    },
    {
      "cell_type": "code",
      "source": [
        ""
      ],
      "metadata": {
        "id": "yPtEeLDBSpH7"
      },
      "execution_count": null,
      "outputs": []
    },
    {
      "cell_type": "markdown",
      "source": [
        "Exercise8: Using 'hw' from 'Exercise 1' check column to column comparision of height > weight and how many such individuals are present\n",
        "\n",
        "---\n",
        "\n"
      ],
      "metadata": {
        "id": "IkHdz47P3O8w"
      }
    },
    {
      "cell_type": "code",
      "source": [
        ""
      ],
      "metadata": {
        "id": "udBCFPScSpgB"
      },
      "execution_count": null,
      "outputs": []
    },
    {
      "cell_type": "markdown",
      "source": [
        "Exercise9: Using .isna(  ) and sum(  ) methods findout how many missing values are present in the dataframe 'hw'\n",
        "\n",
        "---\n",
        "\n"
      ],
      "metadata": {
        "id": "BYB2ETRr3PP9"
      }
    },
    {
      "cell_type": "code",
      "source": [
        ""
      ],
      "metadata": {
        "id": "aSVd7cgVSp-k"
      },
      "execution_count": null,
      "outputs": []
    },
    {
      "cell_type": "markdown",
      "source": [
        "Exercise10:\n",
        "1. create a variable 'url2' using a) the link 'https://raw.githubusercontent.com/avenumadhav/Pandas-for-ML/main/Datasets/' and b) add a string with file name 'winequalityN.csv'\n",
        "2. Use read_csv to read 'url2' variable and assign it to 'wd'\n",
        "3. Find out total number of rows of the dataframe wd using .shape property\n",
        "3. Find the number of missing values for each column\n",
        "\n",
        "---\n",
        "\n"
      ],
      "metadata": {
        "id": "unXKa4213Psm"
      }
    },
    {
      "cell_type": "code",
      "source": [
        ""
      ],
      "metadata": {
        "id": "EKypWxMz3rIU"
      },
      "execution_count": null,
      "outputs": []
    }
  ]
}