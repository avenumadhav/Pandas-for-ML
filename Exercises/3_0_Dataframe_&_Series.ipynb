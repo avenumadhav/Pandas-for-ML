{
  "nbformat": 4,
  "nbformat_minor": 0,
  "metadata": {
    "colab": {
      "name": "3.0 Dataframe & Series.ipynb",
      "provenance": [],
      "collapsed_sections": []
    },
    "kernelspec": {
      "name": "python3",
      "display_name": "Python 3"
    },
    "language_info": {
      "name": "python"
    }
  },
  "cells": [
    {
      "cell_type": "markdown",
      "source": [
        "# 3.0 Dataframe & Series"
      ],
      "metadata": {
        "id": "g8XZeI5_Zv2z"
      }
    },
    {
      "cell_type": "markdown",
      "source": [
        "### Exercise1:\n",
        "- Create a dataframe by reading the csv data from 'https://raw.githubusercontent.com/avenumadhav/Pandas-for-ML/main/Datasets/test.csv'\n",
        "\n",
        "\n",
        "---\n",
        "\n"
      ],
      "metadata": {
        "id": "ok61twaAJ0r5"
      }
    },
    {
      "cell_type": "code",
      "source": [
        ""
      ],
      "metadata": {
        "id": "uPOA60aQKI7d"
      },
      "execution_count": null,
      "outputs": []
    },
    {
      "cell_type": "markdown",
      "source": [
        "### Exercise2:\n",
        "1. Create a dataframe by reading the csv data from 'https://raw.githubusercontent.com/avenumadhav/Pandas-for-ML/main/Datasets/test.csv'\n",
        "2. Write a program to output a dataseries of 'Ave'\n",
        "3. Check the type \n",
        "\n",
        "---\n",
        "\n"
      ],
      "metadata": {
        "id": "89dzd4UOJ7Iq"
      }
    },
    {
      "cell_type": "code",
      "source": [
        ""
      ],
      "metadata": {
        "id": "DEldBoP-KJfU"
      },
      "execution_count": null,
      "outputs": []
    },
    {
      "cell_type": "markdown",
      "source": [
        "### Exercise3:\n",
        "1. Create a dataframe by reading the csv data from 'https://raw.githubusercontent.com/avenumadhav/Pandas-for-ML/main/Datasets/test.csv'\n",
        "2. Create and save all possible dataseries for the dataframe to respective seperate variables\n",
        "3. Check dataseries with .head() method\n",
        "\n",
        "---\n",
        "\n"
      ],
      "metadata": {
        "id": "fx5p54-7J8my"
      }
    },
    {
      "cell_type": "code",
      "source": [
        ""
      ],
      "metadata": {
        "id": "lkCkXtgkKKT-"
      },
      "execution_count": null,
      "outputs": []
    },
    {
      "cell_type": "markdown",
      "source": [
        "### Exercise4:\n",
        "1. Create a dataframe of variable name 'df' by reading the csv data from 'https://raw.githubusercontent.com/avenumadhav/Pandas-for-ML/main/Datasets/test.csv'\n",
        "2. Execute x = df['100'] and findout the type(x)\n",
        "3. Execute y = df[['100']] and findout the type(y)\n",
        "4. Write down your observations\n",
        "\n",
        "---\n",
        "\n"
      ],
      "metadata": {
        "id": "T1_KyPHXJ-c2"
      }
    },
    {
      "cell_type": "code",
      "source": [
        ""
      ],
      "metadata": {
        "id": "4OYcuWYiKL9O"
      },
      "execution_count": null,
      "outputs": []
    },
    {
      "cell_type": "code",
      "execution_count": null,
      "metadata": {
        "id": "T36o6DQqZpa_"
      },
      "outputs": [],
      "source": [
        ""
      ]
    }
  ]
}