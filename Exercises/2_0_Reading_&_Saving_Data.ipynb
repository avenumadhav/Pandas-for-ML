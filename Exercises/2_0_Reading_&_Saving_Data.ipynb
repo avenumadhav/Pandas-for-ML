{
  "nbformat": 4,
  "nbformat_minor": 0,
  "metadata": {
    "colab": {
      "name": "2.0 Reading & Saving Data.ipynb",
      "provenance": [],
      "collapsed_sections": []
    },
    "kernelspec": {
      "name": "python3",
      "display_name": "Python 3"
    },
    "language_info": {
      "name": "python"
    }
  },
  "cells": [
    {
      "cell_type": "markdown",
      "source": [
        "# 2.0 Reading & Saving Data"
      ],
      "metadata": {
        "id": "KKZ879lgJoxl"
      }
    },
    {
      "cell_type": "markdown",
      "source": [
        "### Exercise1:\n",
        "1. Read the csv data from 'https://raw.githubusercontent.com/curran/data/gh-pages/data.gov.in/infantMortalityRate/Infant_Mortality_Rate_1.csv'\n",
        "2. Assign it to a variable 'imr'\n",
        "3. Check the type of variable 'imr'\n",
        "4. Use head method on 'imr' to check the first 5 rows of the dataframe\n",
        "\n",
        "---\n",
        "\n"
      ],
      "metadata": {
        "id": "ok61twaAJ0r5"
      }
    },
    {
      "cell_type": "code",
      "source": [
        ""
      ],
      "metadata": {
        "id": "uPOA60aQKI7d"
      },
      "execution_count": null,
      "outputs": []
    },
    {
      "cell_type": "markdown",
      "source": [
        "### Exercise2:\n",
        "1. Read the csv data from 'https://raw.githubusercontent.com/jbrownlee/Datasets/master/iris.csv'\n",
        "2. Use header = None parameter and re-read the dataframe\n",
        "3. Create a list of variables 'sl','sw','pl','pw','species' and assign it to variable cols\n",
        "4. Use names = cols in read_csv method and re-read the data\n",
        "2. Assign the dataframe to a variable 'id'\n",
        "3. Check the type of variable 'id'\n",
        "4. Use head method on 'id' to check the first 5 rows of the dataframe\n",
        "\n",
        "---\n",
        "\n"
      ],
      "metadata": {
        "id": "89dzd4UOJ7Iq"
      }
    },
    {
      "cell_type": "code",
      "source": [
        ""
      ],
      "metadata": {
        "id": "DEldBoP-KJfU"
      },
      "execution_count": null,
      "outputs": []
    },
    {
      "cell_type": "markdown",
      "source": [
        "### Exercise3:\n",
        "Save the dataframe 'imr' (obtained from exercise 1) to excel format with filename as 'imr_excel'\n",
        "\n",
        "---\n",
        "\n"
      ],
      "metadata": {
        "id": "fx5p54-7J8my"
      }
    },
    {
      "cell_type": "code",
      "source": [
        ""
      ],
      "metadata": {
        "id": "lkCkXtgkKKT-"
      },
      "execution_count": null,
      "outputs": []
    },
    {
      "cell_type": "markdown",
      "source": [
        "### Exercise4:\n",
        "Save the dataframe 'id' (obtained from exercise 2) to excel format with filename as 'id_excel'\n",
        "\n",
        "---\n",
        "\n"
      ],
      "metadata": {
        "id": "T1_KyPHXJ-c2"
      }
    },
    {
      "cell_type": "code",
      "source": [
        ""
      ],
      "metadata": {
        "id": "4OYcuWYiKL9O"
      },
      "execution_count": null,
      "outputs": []
    },
    {
      "cell_type": "markdown",
      "source": [
        "### Exercise5:\n",
        "Using read_table read the data from 'https://raw.githubusercontent.com/justmarkham/pandas-videos/master/data/drinks.csv' and use necessary parameter, if necessary\n",
        "\n",
        "---\n",
        "\n"
      ],
      "metadata": {
        "id": "ornfr_wiKAPU"
      }
    },
    {
      "cell_type": "code",
      "source": [
        ""
      ],
      "metadata": {
        "id": "VZE8jlbDikwU"
      },
      "execution_count": null,
      "outputs": []
    }
  ]
}