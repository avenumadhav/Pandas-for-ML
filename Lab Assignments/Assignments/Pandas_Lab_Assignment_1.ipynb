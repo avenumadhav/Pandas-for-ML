{
  "cells": [
    {
      "cell_type": "markdown",
      "source": [
        "# Lab Assignment 1\n",
        "\n",
        "---\n",
        "\n"
      ],
      "metadata": {
        "id": "FwKUHyUjL8uv"
      }
    },
    {
      "cell_type": "markdown",
      "metadata": {
        "id": "BTun_fKVKQWD"
      },
      "source": [
        "### Q1. Read data \n",
        "- From 'https://raw.githubusercontent.com/avenumadhav/Pandas-for-ML/main/Datasets/', read following files:\n",
        "\n",
        " -   a. 'test.csv'\n",
        "\n",
        " -  b. 'wt_ht.csv'\n",
        "\n",
        " -  c. 'largecities.xlsx'"
      ]
    },
    {
      "cell_type": "code",
      "source": [
        ""
      ],
      "metadata": {
        "id": "DGJTg1J6K0W9"
      },
      "execution_count": 4,
      "outputs": []
    },
    {
      "cell_type": "markdown",
      "source": [
        "### Q2. Inspect the dataset \n",
        "- with .info, .describe and .head methods"
      ],
      "metadata": {
        "id": "t99rRxljK0vi"
      }
    },
    {
      "cell_type": "code",
      "source": [
        ""
      ],
      "metadata": {
        "id": "4vdzbFqRFB2q"
      },
      "execution_count": null,
      "outputs": []
    },
    {
      "cell_type": "markdown",
      "source": [
        "### Q3. Indexing\n",
        "1. Load a dataset using the link: 'https://raw.githubusercontent.com/avenumadhav/Pandas-for-ML/main/Datasets/largecities.xlsx' and assign it to varaible 'df'\n",
        "2. What does df['Country'] get and what type is the output?\n",
        "3. In your own words write your understanding on following statements: \n",
        "\n",
        "- - 'df[ ['City[a]', 'Country', 'UN 2018 population estimates[b]'] ]\n",
        "- - df.iloc[3]\n",
        "- - df.iloc[2, 4]\n",
        "- - df.loc[0:10,'Country']\n",
        "\n"
      ],
      "metadata": {
        "id": "rmo-dxOBFCon"
      }
    },
    {
      "cell_type": "code",
      "source": [
        ""
      ],
      "metadata": {
        "id": "D-JumkILEZVh"
      },
      "execution_count": null,
      "outputs": []
    },
    {
      "cell_type": "markdown",
      "source": [
        "### Q4. Selection\n",
        "1. Retrieve part of the dataframe based on condition: df['Country'] == 'Japan'\n",
        "2. Retrieve part of the dataframe based on conditions: df['Country'] == 'Japan' and df['City proper[c] Area (km2)'] > 200\n",
        "3. Retrieve part of the dataframe based on conditions: New city Indian municipalities with UN 2018 population > 10000000"
      ],
      "metadata": {
        "id": "iKxeK9bFKuxK"
      }
    },
    {
      "cell_type": "code",
      "source": [
        ""
      ],
      "metadata": {
        "id": "z2pgKJ-HEbsV"
      },
      "execution_count": null,
      "outputs": []
    },
    {
      "cell_type": "markdown",
      "source": [
        "### Q5. Unique values\n",
        "- Find the unique values for the following columns:\n",
        " -   'City[a]'\n",
        " -   'Country'\n",
        " -   'City proper[c] Definition'\n",
        " -   'New_City_Proper_Definition'\n"
      ],
      "metadata": {
        "id": "D9xP2goGNsrm"
      }
    },
    {
      "cell_type": "code",
      "source": [
        ""
      ],
      "metadata": {
        "id": "ZAgloNjOEpMR"
      },
      "execution_count": null,
      "outputs": []
    }
  ],
  "metadata": {
    "colab": {
      "name": "Pandas Lab Assignment 1.ipynb",
      "provenance": [],
      "collapsed_sections": []
    },
    "kernelspec": {
      "display_name": "Python 3",
      "language": "python",
      "name": "python3"
    },
    "language_info": {
      "codemirror_mode": {
        "name": "ipython",
        "version": 3
      },
      "file_extension": ".py",
      "mimetype": "text/x-python",
      "name": "python",
      "nbconvert_exporter": "python",
      "pygments_lexer": "ipython3",
      "version": "3.7.7"
    }
  },
  "nbformat": 4,
  "nbformat_minor": 0
}